{
 "cells": [
  {
   "cell_type": "code",
   "execution_count": null,
   "metadata": {},
   "outputs": [],
   "source": [
    "from pv_analyzer import pv_analyze\n",
    "import numpy as np\n",
    "import matplotlib.pyplot as plt\n",
    "import os"
   ]
  },
  {
   "cell_type": "code",
   "execution_count": null,
   "metadata": {},
   "outputs": [],
   "source": [
    "%matplotlib widget"
   ]
  },
  {
   "cell_type": "code",
   "execution_count": null,
   "metadata": {},
   "outputs": [],
   "source": [
    "def emp_kep_v(v_rot, v_100):        \n",
    "        r_au = 100.*np.power(v_100/v_rot, 2)\n",
    "        return r_au\n",
    "\n",
    "def emp_kep_r(r, r_b, v_100):\n",
    "        v_r = v_100*(r/r_b)**(-0.5)\n",
    "        return v_r"
   ]
  },
  {
   "cell_type": "code",
   "execution_count": null,
   "metadata": {},
   "outputs": [],
   "source": [
    "# define fix r points\n",
    "# Get equidistance points\n",
    "\n",
    "r_au_empkep_rs_fix_r = np.arange(start=42., step=42., stop=840.)\n",
    "r_au_empkep_bs_fix_r = -r_au_empkep_rs_fix_r\n",
    "\n",
    "v_100 = 2.842 #kmps # idpft-2.674 # JS- 3.2 # newft 2.842\n",
    "\n",
    "v_rot_empkep_rs_fix_r =  emp_kep_r(r=r_au_empkep_rs_fix_r, r_b=100., v_100=v_100)\n",
    "v_rot_empkep_bs_fix_r = - v_rot_empkep_rs_fix_r\n",
    "\n",
    "plot_points = [r_au_empkep_rs_fix_r, v_rot_empkep_rs_fix_r, r_au_empkep_bs_fix_r, v_rot_empkep_bs_fix_r]\n",
    "\n",
    "\n"
   ]
  },
  {
   "cell_type": "code",
   "execution_count": null,
   "metadata": {},
   "outputs": [],
   "source": [
    "pv_without_beam_fname = \"L1489irs_model_i_73.0without_beam_conv_upd_hdr_pv.fits\"\n",
    "\n",
    "pv_with_beam_fname = \"L1489irs_model_i_73.0with_beam_conv_upd_hdr_pv.fits\"\n",
    "\n",
    "pv_with_beam = pv_analyze(pv_path=pv_with_beam_fname,\n",
    "                    is_Tb=False, v_sys=7.22) # V_sys - 7.22, 7.27 7.33\n",
    "pv_with_beam.read_pv(print_details = True)          \n",
    "Tb_pv_with_beam = pv_with_beam.get_tb_on_curve(curve_function = None, \n",
    "                            get_surrounding_pix = False, mode='func',\n",
    "                            num_pix = 3, return_coords=True)\n",
    "\n",
    "\n",
    "pv_without_beam = pv_analyze(pv_path=pv_without_beam_fname,\n",
    "                    is_Tb=False, v_sys=7.22) # V_sys - 7.22, 7.27 7.33\n",
    "pv_without_beam.read_pv(print_details = True)\n",
    "\n",
    "\n",
    "Tb_pv_without_beam = pv_without_beam.get_tb_on_curve(curve_function = None, \n",
    "                            get_surrounding_pix = False, mode='func',\n",
    "                            num_pix = 3, return_coords=True)"
   ]
  },
  {
   "cell_type": "code",
   "execution_count": null,
   "metadata": {},
   "outputs": [],
   "source": [
    "pv_without_beam_fig = pv_without_beam.plot_pv(plot_curve=True, base_ctr_lvl= 0.2,\n",
    "                                              cbarlim=[0.,0.10])\n"
   ]
  },
  {
   "cell_type": "code",
   "execution_count": null,
   "metadata": {},
   "outputs": [],
   "source": [
    "print(Tb_pv_without_beam[\"r_rs\"])\n",
    "print(Tb_pv_without_beam[\"Tb_on_point_rs\"])"
   ]
  },
  {
   "cell_type": "code",
   "execution_count": null,
   "metadata": {},
   "outputs": [],
   "source": [
    "pv_with_beam_fig = pv_with_beam.plot_pv(plot_curve=True, base_ctr_lvl= 0.1)"
   ]
  },
  {
   "cell_type": "code",
   "execution_count": null,
   "metadata": {},
   "outputs": [],
   "source": [
    "print(Tb_pv_with_beam[\"Tb_on_point_rs\"])"
   ]
  },
  {
   "cell_type": "code",
   "execution_count": null,
   "metadata": {},
   "outputs": [],
   "source": [
    "fig, axs = plt.subplots()\n",
    "\n",
    "def ssdisk(r, Ic, rc, gamma, beta = None):\n",
    "    beta_p = gamma if beta is None else beta # - beta = - gamma - q\n",
    "    \n",
    "    I_cube = Ic * (r/rc)**(- beta_p) * np.exp(-(r/rc)**(2. - gamma))\n",
    "    \n",
    "    I_cube *= np.abs((0.06)*(0.06)) # per pixel to per arcsec^2\n",
    "    I_cube /= np.pi/(4.*np.log(2.)) * 0.6 * 0.6 # per arcsec^2 --> per beam\n",
    "    \n",
    "    return I_cube\n",
    "\n",
    "cf = (np.pi/(4.*np.log(2.)) * 0.6 * 0.6)/np.abs((0.03)*(0.03))\n",
    "\n",
    "#Tb_pv_without_beam[\"Tb_on_point_rs\"] = ssdisk(r=Tb_pv_without_beam[\"r_rs\"],\n",
    "#                                              Ic=1.,rc=600., beta=1.5, gamma=1.)\n",
    "#Tb_pv_without_beam[\"Tb_on_point_bs\"] = ssdisk(r=-Tb_pv_without_beam[\"r_bs\"],\n",
    "#                                              Ic=1.,rc=600., beta=1.5, gamma=1.)\n",
    "#print(Tb_pv_without_beam[\"Tb_on_point_bs\"])\n",
    "\n",
    "Tb_pv_without_beam[\"Tb_on_point_rs\"] = np.array(Tb_pv_without_beam[\"Tb_on_point_rs\"])*cf\n",
    "Tb_pv_without_beam[\"Tb_on_point_bs\"] = np.array(Tb_pv_without_beam[\"Tb_on_point_bs\"])*cf\n",
    "\n",
    "axs.plot(Tb_pv_without_beam[\"r_rs\"], Tb_pv_without_beam[\"Tb_on_point_rs\"], \n",
    "         label='without_beam_rs', c='r', ls = '-', marker='o')\n",
    "axs.plot(Tb_pv_with_beam[\"r_rs\"], Tb_pv_with_beam[\"Tb_on_point_rs\"], label='with_beam_rs', c='r', ls = '--', marker='o')\n",
    "\n",
    "axs.plot(-Tb_pv_without_beam[\"r_bs\"], Tb_pv_without_beam[\"Tb_on_point_bs\"], \n",
    "         label='without_beam_bs', c='b', ls = '-', marker='o')\n",
    "axs.plot(-Tb_pv_with_beam[\"r_bs\"], Tb_pv_with_beam[\"Tb_on_point_bs\"], \n",
    "         label='with_beam_bs', c='b', ls = '--', marker='o')\n",
    "axs.legend(prop={'size': 6})\n",
    "axs.grid()\n",
    "axs.set_yscale('log')\n",
    "plt.show()"
   ]
  },
  {
   "cell_type": "code",
   "execution_count": null,
   "metadata": {},
   "outputs": [],
   "source": [
    "red_factor = np.divide(Tb_pv_without_beam[\"Tb_on_point_rs\"],Tb_pv_with_beam[\"Tb_on_point_rs\"])\n",
    "\n",
    "blue_factor = np.divide(Tb_pv_without_beam[\"Tb_on_point_bs\"],Tb_pv_with_beam[\"Tb_on_point_bs\"])\n",
    "\n",
    "\n",
    "\n",
    "fig, axs = plt.subplots()\n",
    "axs.scatter(Tb_pv_without_beam[\"r_rs\"], 1/red_factor, label='ratio_rs', c='r', ls = '-')\n",
    "axs.scatter(-Tb_pv_with_beam[\"r_bs\"], 1/blue_factor, label='ratio_bs', c='b', ls = '--')\n",
    "axs.legend()\n",
    "axs.set_yscale('log')\n",
    "axs.grid()\n",
    "plt.show()"
   ]
  },
  {
   "cell_type": "code",
   "execution_count": null,
   "metadata": {},
   "outputs": [],
   "source": []
  }
 ],
 "metadata": {
  "kernelspec": {
   "display_name": "Python 3",
   "language": "python",
   "name": "python3"
  },
  "language_info": {
   "codemirror_mode": {
    "name": "ipython",
    "version": 3
   },
   "file_extension": ".py",
   "mimetype": "text/x-python",
   "name": "python",
   "nbconvert_exporter": "python",
   "pygments_lexer": "ipython3",
   "version": "3.11.4"
  }
 },
 "nbformat": 4,
 "nbformat_minor": 2
}
